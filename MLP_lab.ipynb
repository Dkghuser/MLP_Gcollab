{
  "nbformat": 4,
  "nbformat_minor": 0,
  "metadata": {
    "colab": {
      "provenance": [],
      "authorship_tag": "ABX9TyNCGKwTKQQUDMOAluaMLpUj",
      "include_colab_link": true
    },
    "kernelspec": {
      "name": "python3",
      "display_name": "Python 3"
    },
    "language_info": {
      "name": "python"
    }
  },
  "cells": [
    {
      "cell_type": "markdown",
      "metadata": {
        "id": "view-in-github",
        "colab_type": "text"
      },
      "source": [
        "<a href=\"https://colab.research.google.com/github/Dkghuser/MLP_Gcollab/blob/main/MLP_lab.ipynb\" target=\"_parent\"><img src=\"https://colab.research.google.com/assets/colab-badge.svg\" alt=\"Open In Colab\"/></a>"
      ]
    },
    {
      "cell_type": "code",
      "source": [
        "#gcd\n",
        "def computeGCD (x, y) :\n",
        "    if x < y :\n",
        "        smaller = x\n",
        "    else:\n",
        "        smaller = y\n",
        "    for i in range(1, smaller+1) :\n",
        "        if (x % i == 0) and (y % i == 0) :\n",
        "            gcd = i\n",
        "    return gcd\n",
        "num1 = int(input(\"Enter first number: \"))\n",
        "num2 = int(input(\"Enter second number: \"))\n",
        "print(\"The G.C.D. of \", num1,\" and \", num2,\" is = \", computeGCD(num1, num2))"
      ],
      "metadata": {
        "id": "cxT29Rdnb5lt"
      },
      "execution_count": null,
      "outputs": []
    },
    {
      "cell_type": "code",
      "execution_count": null,
      "metadata": {
        "id": "4UX-egpYAi9d"
      },
      "outputs": [],
      "source": [
        "#Square root of a no.\n",
        "A=input(\"Enter a value: \")\n",
        "x=float(A)\n",
        "C=x**0.5\n",
        "print(\"Square root of \", x ,\" is = \", C)"
      ]
    },
    {
      "cell_type": "code",
      "source": [
        "#Exponentiation\n",
        "def power(base, exp):\n",
        "  if exp==1:\n",
        "    return(base)\n",
        "  if exp!=1:\n",
        "    return(base*power(base, exp-1))\n",
        "base=int(input(\"Enter Base: \"))\n",
        "exp=int(input(\"Enter exponential value: \"))\n",
        "print(\"Result is: \", power(base, exp))"
      ],
      "metadata": {
        "id": "MwE7SmwB8zh-"
      },
      "execution_count": null,
      "outputs": []
    },
    {
      "cell_type": "code",
      "source": [
        "#Maximum no. in a list\n",
        "def MaxList():\n",
        "  list1=[]\n",
        "  N=int(input(\"Enter Number of Values\"))\n",
        "  for i in range (0,N):\n",
        "    x=int(input(\"Enter a Value\"))\n",
        "    list1.append(x)\n",
        "  print(list1)\n",
        "  Max=list1[0]\n",
        "  j=1\n",
        "  while j<N:\n",
        "    if list1[j]>Max:\n",
        "      Max=list1[j]\n",
        "      j=j+1\n",
        "  print(\" The Maximum Element in the List is \",Max)\n",
        "MaxList()"
      ],
      "metadata": {
        "id": "gkpmuGwu-fe9",
        "colab": {
          "base_uri": "https://localhost:8080/",
          "height": 651
        },
        "outputId": "e5e842d6-3299-4d11-8842-5857b02321b7"
      },
      "execution_count": null,
      "outputs": [
        {
          "output_type": "error",
          "ename": "KeyboardInterrupt",
          "evalue": "Interrupted by user",
          "traceback": [
            "\u001b[0;31m---------------------------------------------------------------------------\u001b[0m",
            "\u001b[0;31mKeyboardInterrupt\u001b[0m                         Traceback (most recent call last)",
            "\u001b[0;32m<ipython-input-3-de3d7adbe908>\u001b[0m in \u001b[0;36m<cell line: 16>\u001b[0;34m()\u001b[0m\n\u001b[1;32m     14\u001b[0m       \u001b[0mj\u001b[0m\u001b[0;34m=\u001b[0m\u001b[0mj\u001b[0m\u001b[0;34m+\u001b[0m\u001b[0;36m1\u001b[0m\u001b[0;34m\u001b[0m\u001b[0;34m\u001b[0m\u001b[0m\n\u001b[1;32m     15\u001b[0m   \u001b[0mprint\u001b[0m\u001b[0;34m(\u001b[0m\u001b[0;34m\" The Maximum Element in the List is \"\u001b[0m\u001b[0;34m,\u001b[0m\u001b[0mMax\u001b[0m\u001b[0;34m)\u001b[0m\u001b[0;34m\u001b[0m\u001b[0;34m\u001b[0m\u001b[0m\n\u001b[0;32m---> 16\u001b[0;31m \u001b[0mMaxList\u001b[0m\u001b[0;34m(\u001b[0m\u001b[0;34m)\u001b[0m\u001b[0;34m\u001b[0m\u001b[0;34m\u001b[0m\u001b[0m\n\u001b[0m",
            "\u001b[0;32m<ipython-input-3-de3d7adbe908>\u001b[0m in \u001b[0;36mMaxList\u001b[0;34m()\u001b[0m\n\u001b[1;32m      2\u001b[0m \u001b[0;32mdef\u001b[0m \u001b[0mMaxList\u001b[0m\u001b[0;34m(\u001b[0m\u001b[0;34m)\u001b[0m\u001b[0;34m:\u001b[0m\u001b[0;34m\u001b[0m\u001b[0;34m\u001b[0m\u001b[0m\n\u001b[1;32m      3\u001b[0m   \u001b[0mlist1\u001b[0m\u001b[0;34m=\u001b[0m\u001b[0;34m[\u001b[0m\u001b[0;34m]\u001b[0m\u001b[0;34m\u001b[0m\u001b[0;34m\u001b[0m\u001b[0m\n\u001b[0;32m----> 4\u001b[0;31m   \u001b[0mN\u001b[0m\u001b[0;34m=\u001b[0m\u001b[0mint\u001b[0m\u001b[0;34m(\u001b[0m\u001b[0minput\u001b[0m\u001b[0;34m(\u001b[0m\u001b[0;34m\"Enter Number of Values\"\u001b[0m\u001b[0;34m)\u001b[0m\u001b[0;34m)\u001b[0m\u001b[0;34m\u001b[0m\u001b[0;34m\u001b[0m\u001b[0m\n\u001b[0m\u001b[1;32m      5\u001b[0m   \u001b[0;32mfor\u001b[0m \u001b[0mi\u001b[0m \u001b[0;32min\u001b[0m \u001b[0mrange\u001b[0m \u001b[0;34m(\u001b[0m\u001b[0;36m0\u001b[0m\u001b[0;34m,\u001b[0m\u001b[0mN\u001b[0m\u001b[0;34m)\u001b[0m\u001b[0;34m:\u001b[0m\u001b[0;34m\u001b[0m\u001b[0;34m\u001b[0m\u001b[0m\n\u001b[1;32m      6\u001b[0m     \u001b[0mx\u001b[0m\u001b[0;34m=\u001b[0m\u001b[0mint\u001b[0m\u001b[0;34m(\u001b[0m\u001b[0minput\u001b[0m\u001b[0;34m(\u001b[0m\u001b[0;34m\"Enter a Value\"\u001b[0m\u001b[0;34m)\u001b[0m\u001b[0;34m)\u001b[0m\u001b[0;34m\u001b[0m\u001b[0;34m\u001b[0m\u001b[0m\n",
            "\u001b[0;32m/usr/local/lib/python3.10/dist-packages/ipykernel/kernelbase.py\u001b[0m in \u001b[0;36mraw_input\u001b[0;34m(self, prompt)\u001b[0m\n\u001b[1;32m    849\u001b[0m                 \u001b[0;34m\"raw_input was called, but this frontend does not support input requests.\"\u001b[0m\u001b[0;34m\u001b[0m\u001b[0;34m\u001b[0m\u001b[0m\n\u001b[1;32m    850\u001b[0m             )\n\u001b[0;32m--> 851\u001b[0;31m         return self._input_request(str(prompt),\n\u001b[0m\u001b[1;32m    852\u001b[0m             \u001b[0mself\u001b[0m\u001b[0;34m.\u001b[0m\u001b[0m_parent_ident\u001b[0m\u001b[0;34m,\u001b[0m\u001b[0;34m\u001b[0m\u001b[0;34m\u001b[0m\u001b[0m\n\u001b[1;32m    853\u001b[0m             \u001b[0mself\u001b[0m\u001b[0;34m.\u001b[0m\u001b[0m_parent_header\u001b[0m\u001b[0;34m,\u001b[0m\u001b[0;34m\u001b[0m\u001b[0;34m\u001b[0m\u001b[0m\n",
            "\u001b[0;32m/usr/local/lib/python3.10/dist-packages/ipykernel/kernelbase.py\u001b[0m in \u001b[0;36m_input_request\u001b[0;34m(self, prompt, ident, parent, password)\u001b[0m\n\u001b[1;32m    893\u001b[0m             \u001b[0;32mexcept\u001b[0m \u001b[0mKeyboardInterrupt\u001b[0m\u001b[0;34m:\u001b[0m\u001b[0;34m\u001b[0m\u001b[0;34m\u001b[0m\u001b[0m\n\u001b[1;32m    894\u001b[0m                 \u001b[0;31m# re-raise KeyboardInterrupt, to truncate traceback\u001b[0m\u001b[0;34m\u001b[0m\u001b[0;34m\u001b[0m\u001b[0m\n\u001b[0;32m--> 895\u001b[0;31m                 \u001b[0;32mraise\u001b[0m \u001b[0mKeyboardInterrupt\u001b[0m\u001b[0;34m(\u001b[0m\u001b[0;34m\"Interrupted by user\"\u001b[0m\u001b[0;34m)\u001b[0m \u001b[0;32mfrom\u001b[0m \u001b[0;32mNone\u001b[0m\u001b[0;34m\u001b[0m\u001b[0;34m\u001b[0m\u001b[0m\n\u001b[0m\u001b[1;32m    896\u001b[0m             \u001b[0;32mexcept\u001b[0m \u001b[0mException\u001b[0m \u001b[0;32mas\u001b[0m \u001b[0me\u001b[0m\u001b[0;34m:\u001b[0m\u001b[0;34m\u001b[0m\u001b[0;34m\u001b[0m\u001b[0m\n\u001b[1;32m    897\u001b[0m                 \u001b[0mself\u001b[0m\u001b[0;34m.\u001b[0m\u001b[0mlog\u001b[0m\u001b[0;34m.\u001b[0m\u001b[0mwarning\u001b[0m\u001b[0;34m(\u001b[0m\u001b[0;34m\"Invalid Message:\"\u001b[0m\u001b[0;34m,\u001b[0m \u001b[0mexc_info\u001b[0m\u001b[0;34m=\u001b[0m\u001b[0;32mTrue\u001b[0m\u001b[0;34m)\u001b[0m\u001b[0;34m\u001b[0m\u001b[0;34m\u001b[0m\u001b[0m\n",
            "\u001b[0;31mKeyboardInterrupt\u001b[0m: Interrupted by user"
          ]
        }
      ]
    },
    {
      "cell_type": "code",
      "source": [
        "#Duplicate elements\n",
        "def createlist():\n",
        "  list1=[]\n",
        "  N=int(input(\"Enter Number of Values\"))\n",
        "  for i in range (0,N):\n",
        "     x=int(input(\"Enter a Value\"))\n",
        "     list1.append(x)\n",
        "\n",
        "  return list1\n",
        "\n",
        "def removeduplicate(A):\n",
        "  output=set()\n",
        "  list2=[]\n",
        "  for i in A:\n",
        "     if i not in output:\n",
        "          output.add(i)\n",
        "          list2.append(i)\n",
        "  return list2\n",
        "\n",
        "A=createlist()\n",
        "print(A)\n",
        "result=removeduplicate(A)\n",
        "print(result)"
      ],
      "metadata": {
        "id": "9U0EmmsnIODJ",
        "colab": {
          "base_uri": "https://localhost:8080/"
        },
        "outputId": "296b78e1-43c6-4205-b2ef-1269881643a8"
      },
      "execution_count": null,
      "outputs": [
        {
          "output_type": "stream",
          "name": "stdout",
          "text": [
            "Enter Number of Values4\n",
            "Enter a Value11\n",
            "Enter a Value22\n",
            "Enter a Value11\n",
            "Enter a Value22\n",
            "[11, 22, 11, 22]\n",
            "[11, 22]\n"
          ]
        }
      ]
    },
    {
      "cell_type": "code",
      "source": [
        "#Linear Search\n",
        "def LS():\n",
        "    list1=[]\n",
        "    flag=0\n",
        "    N=int(input(\"enter no. of elements\"))\n",
        "    print(\"Enter values one by one\")\n",
        "    for i in range(0,N):\n",
        "      a=int(input(\"enter a value\"))\n",
        "      list1.append(a)\n",
        "    print(list1)\n",
        "    key=int(input(\"enter the Key value\"))\n",
        "    for i in range(0,N) :\n",
        "      if key==list1 [i]:\n",
        "        flag=1\n",
        "        break\n",
        "    if flag==1:\n",
        "      print(key,\" is found in the list1 at position \",i+1 )\n",
        "    else:\n",
        "      print(key,\" is not found in the list1\")\n",
        "LS()"
      ],
      "metadata": {
        "id": "rwvAhBmbIECq",
        "colab": {
          "base_uri": "https://localhost:8080/"
        },
        "outputId": "e001c020-4393-45ed-e9b0-7b3fd5eb0b40"
      },
      "execution_count": null,
      "outputs": [
        {
          "output_type": "stream",
          "name": "stdout",
          "text": [
            "enter no. of elements4\n",
            "Enter values one by one\n",
            "enter a value11\n",
            "enter a value22\n",
            "enter a value33\n",
            "enter a value44\n",
            "[11, 22, 33, 44]\n",
            "enter the Key value22\n",
            "22  is found in the list1 at position  2\n"
          ]
        }
      ]
    },
    {
      "cell_type": "code",
      "source": [
        "#binary Search\n",
        "def binarySearch(alist, key) :\n",
        "   first = 0\n",
        "   last = len(alist)-1\n",
        "   found = 0\n",
        "   while first<=last and not found:\n",
        "      midpoint = (first+last)//2\n",
        "      if key==alist[midpoint] :\n",
        "        found=1\n",
        "        break\n",
        "      elif key<alist[midpoint] :\n",
        "        last=midpoint-1\n",
        "      else:\n",
        "        first=midpoint+1\n",
        "   if found==1:\n",
        "    print(key, \"is found in the list \" ,alist,\"at position \",midpoint+1)\n",
        "   else:\n",
        "    print(key, \"is not found in the list \")\n",
        "testlist = [0, 1, 2, 8, 13, 17, 19, 32, 42,]\n",
        "binarySearch(testlist, 13)\n",
        "testlist = [0, 1, 2, 8, 13, 17, 19, 32, 42,]\n",
        "binarySearch(testlist, 1)"
      ],
      "metadata": {
        "id": "I6kTYhnNK8AZ",
        "colab": {
          "base_uri": "https://localhost:8080/"
        },
        "outputId": "cb67ebe4-2ba6-4197-a426-06e8a9136d91"
      },
      "execution_count": null,
      "outputs": [
        {
          "output_type": "stream",
          "name": "stdout",
          "text": [
            "13 is found in the list  [0, 1, 2, 8, 13, 17, 19, 32, 42] at position  5\n",
            "1 is found in the list  [0, 1, 2, 8, 13, 17, 19, 32, 42] at position  2\n"
          ]
        }
      ]
    },
    {
      "cell_type": "code",
      "source": [
        "#Selection Sort\n",
        "def selection(list2):\n",
        "    for i in range(len(list2)):\n",
        "      least=i\n",
        "      for k in range(i+1,len(list2)):\n",
        "        if list2[k] < list2[least]:\n",
        "          least=k\n",
        "      list2=swap (list2,least,i)\n",
        "    return list2\n",
        "\n",
        "def swap(A,x,y):\n",
        "  tmp=A[x]\n",
        "  A[x]=A[y]\n",
        "  A[y]=tmp\n",
        "  return A\n",
        "list1=[25,9,8,3,5,7,10]\n",
        "print(\"Before Sorting \" ,list1)\n",
        "result=selection(list1)\n",
        "print(\"After Sorting \" ,result)"
      ],
      "metadata": {
        "id": "ht_QfrebMw8q",
        "colab": {
          "base_uri": "https://localhost:8080/"
        },
        "outputId": "a4b88a59-390c-4338-a3c6-f6c1401ea21d"
      },
      "execution_count": null,
      "outputs": [
        {
          "output_type": "stream",
          "name": "stdout",
          "text": [
            "Before Sorting  [25, 9, 8, 3, 5, 7, 10]\n",
            "After Sorting  [3, 5, 7, 8, 9, 10, 25]\n"
          ]
        }
      ]
    },
    {
      "cell_type": "code",
      "source": [
        "#insertion sort\n",
        "def insertion(a):\n",
        "    for i in a :\n",
        "        j = a.index(i)\n",
        "        while j>0 :\n",
        "              if a[j-1] > a[j] :\n",
        "                  a[j-1],a[j] = a[j],a[j-1]\n",
        "              else:   break\n",
        "              j = j-1\n",
        "    print(\"After Sorting :\", a)\n",
        "list1 = [16,19,11,15,10,12,14,5]\n",
        "print(\"Before Sorting:\", list1)\n",
        "insertion(list1)"
      ],
      "metadata": {
        "id": "aLwqK0A2OEi5",
        "colab": {
          "base_uri": "https://localhost:8080/"
        },
        "outputId": "60230c12-e891-4e80-9a1f-43b565941723"
      },
      "execution_count": null,
      "outputs": [
        {
          "output_type": "stream",
          "name": "stdout",
          "text": [
            "Before Sorting: [16, 19, 11, 15, 10, 12, 14, 5]\n",
            "After Sorting : [5, 10, 11, 12, 14, 15, 16, 19]\n"
          ]
        }
      ]
    },
    {
      "cell_type": "code",
      "source": [
        "#MergeSort\n",
        "def mergeSort(alist):\n",
        "    print(\"Splitting \",alist)\n",
        "    if len(alist)>1:\n",
        "          mid = len(alist)//2\n",
        "          lefthalf = alist[:mid]\n",
        "          righthalf = alist[mid:]\n",
        "          mergeSort(lefthalf)\n",
        "          mergeSort(righthalf)\n",
        "          i=0\n",
        "          j=0\n",
        "          k=0\n",
        "          while i < len(lefthalf) and j < len(righthalf):\n",
        "            if lefthalf[i] < righthalf[j]:\n",
        "                alist[k]=lefthalf[i]\n",
        "                i=i+1\n",
        "            else:\n",
        "                alist[k]=righthalf[j]\n",
        "                j=j+1\n",
        "            k=k+1\n",
        "\n",
        "          while i < len(lefthalf):\n",
        "            alist[k]=lefthalf[i]\n",
        "            i=i+1\n",
        "            k=k+1\n",
        "          while j < len(righthalf):\n",
        "            alist[k]=righthalf[j]\n",
        "            j=j+1\n",
        "            k=k+1\n",
        "    print(\"Merging\", alist)\n",
        "alist = [54,26,93,17,77,31,44,55,20]\n",
        "mergeSort(alist)\n",
        "print(alist)"
      ],
      "metadata": {
        "colab": {
          "base_uri": "https://localhost:8080/"
        },
        "id": "nDnaTUWVJc1u",
        "outputId": "8c31a3d3-fb1c-4718-c0ef-9853513c9b9b"
      },
      "execution_count": null,
      "outputs": [
        {
          "output_type": "stream",
          "name": "stdout",
          "text": [
            "Splitting  [54, 26, 93, 17, 77, 31, 44, 55, 20]\n",
            "Splitting  [54, 26, 93, 17]\n",
            "Splitting  [54, 26]\n",
            "Splitting  [54]\n",
            "Merging [54]\n",
            "Splitting  [26]\n",
            "Merging [26]\n",
            "Merging [26, 54]\n",
            "Splitting  [93, 17]\n",
            "Splitting  [93]\n",
            "Merging [93]\n",
            "Splitting  [17]\n",
            "Merging [17]\n",
            "Merging [17, 93]\n",
            "Merging [17, 26, 54, 93]\n",
            "Splitting  [77, 31, 44, 55, 20]\n",
            "Splitting  [77, 31]\n",
            "Splitting  [77]\n",
            "Merging [77]\n",
            "Splitting  [31]\n",
            "Merging [31]\n",
            "Merging [31, 77]\n",
            "Splitting  [44, 55, 20]\n",
            "Splitting  [44]\n",
            "Merging [44]\n",
            "Splitting  [55, 20]\n",
            "Splitting  [55]\n",
            "Merging [55]\n",
            "Splitting  [20]\n",
            "Merging [20]\n",
            "Merging [20, 55]\n",
            "Merging [20, 44, 55]\n",
            "Merging [20, 31, 44, 55, 77]\n",
            "Merging [17, 20, 26, 31, 44, 54, 55, 77, 93]\n",
            "[17, 20, 26, 31, 44, 54, 55, 77, 93]\n"
          ]
        }
      ]
    },
    {
      "cell_type": "code",
      "source": [
        "#1st 'n' prime no.s\n",
        "lower = int(input(\"Enter lower range: \"))\n",
        "upper = int(input(\"Enter upper range: \"))\n",
        "print(\"Prime numbers between\",lower,\"and\",upper,\"are:\")\n",
        "for num in range(lower,upper + 1):\n",
        "      if num > 1:\n",
        "          for i in range(2,num):\n",
        "               if (num%i) == 0:\n",
        "                   break\n",
        "          else:\n",
        "               print(num)"
      ],
      "metadata": {
        "colab": {
          "base_uri": "https://localhost:8080/"
        },
        "id": "qQg9mSgEaKbM",
        "outputId": "45a17913-cadd-416d-e0a8-28c3931a3303"
      },
      "execution_count": null,
      "outputs": [
        {
          "output_type": "stream",
          "name": "stdout",
          "text": [
            "Enter lower range: 1\n",
            "Enter upper range: 10\n",
            "Prime numbers between 1 and 10 are:\n",
            "2\n",
            "3\n",
            "5\n",
            "7\n"
          ]
        }
      ]
    }
  ]
}