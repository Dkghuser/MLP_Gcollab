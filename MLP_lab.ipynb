{
  "nbformat": 4,
  "nbformat_minor": 0,
  "metadata": {
    "colab": {
      "provenance": [],
      "authorship_tag": "ABX9TyOyxszc36eAMVemeMDnRRFH",
      "include_colab_link": true
    },
    "kernelspec": {
      "name": "python3",
      "display_name": "Python 3"
    },
    "language_info": {
      "name": "python"
    }
  },
  "cells": [
    {
      "cell_type": "markdown",
      "metadata": {
        "id": "view-in-github",
        "colab_type": "text"
      },
      "source": [
        "<a href=\"https://colab.research.google.com/github/Dkghuser/MLP_Gcollab/blob/main/MLP_lab.ipynb\" target=\"_parent\"><img src=\"https://colab.research.google.com/assets/colab-badge.svg\" alt=\"Open In Colab\"/></a>"
      ]
    },
    {
      "cell_type": "code",
      "execution_count": null,
      "metadata": {
        "id": "4UX-egpYAi9d",
        "colab": {
          "base_uri": "https://localhost:8080/"
        },
        "outputId": "857edbb3-a272-48d9-c906-a2f49f90115e"
      },
      "outputs": [
        {
          "output_type": "stream",
          "name": "stdout",
          "text": [
            "Enter a value: 9\n",
            "Square root of  9.0  is =  3.0\n"
          ]
        }
      ],
      "source": [
        "#Square root of a no.\n",
        "A=input(\"Enter a value: \")\n",
        "x=float(A)\n",
        "C=x**0.5\n",
        "print(\"Square root of \", x ,\" is = \", C)"
      ]
    },
    {
      "cell_type": "code",
      "source": [
        "#Exponentiation\n",
        "def power(base, exp):\n",
        "  if exp==1:\n",
        "    return(base)\n",
        "  if exp!=1:\n",
        "    return(base*power(base, exp-1))\n",
        "base=int(input(\"Enter Base: \"))\n",
        "exp=int(input(\"Enter exponential value: \"))\n",
        "print(\"Result is: \", power(base, exp))"
      ],
      "metadata": {
        "colab": {
          "base_uri": "https://localhost:8080/"
        },
        "id": "MwE7SmwB8zh-",
        "outputId": "51a0763e-f186-4b41-d7a9-0e785008628c"
      },
      "execution_count": null,
      "outputs": [
        {
          "output_type": "stream",
          "name": "stdout",
          "text": [
            "Enter Base: 2\n",
            "Enter exponential value: 3\n",
            "Result is:  8\n"
          ]
        }
      ]
    },
    {
      "cell_type": "code",
      "source": [
        "#Maximum no. in a list\n",
        "def MaxList():\n",
        "  list1=[]\n",
        "  N=int(input(\"Enter Number of Values\"))\n",
        "  for i in range (0,N):\n",
        "    x=int(input(\"Enter a Value\"))\n",
        "    list1.append(x)\n",
        "  print(list1)\n",
        "  Max=list1[0]\n",
        "  j=1\n",
        "  while j<N:\n",
        "    if list1[j]>Max:\n",
        "      Max=list1[j]\n",
        "      j=j+1\n",
        "  print(\" The Maximum Element in the List is \",Max)\n",
        "MaxList()"
      ],
      "metadata": {
        "id": "gkpmuGwu-fe9",
        "colab": {
          "base_uri": "https://localhost:8080/"
        },
        "outputId": "a039c04a-53cf-44f2-a742-4e9fbfb5406b"
      },
      "execution_count": null,
      "outputs": [
        {
          "output_type": "stream",
          "name": "stdout",
          "text": [
            "Enter Number of Values3\n",
            "Enter a Value34\n",
            "Enter a Value56\n",
            "Enter a Value78\n",
            "[34, 56, 78]\n",
            " The Maximum Element in the List is  78\n"
          ]
        }
      ]
    },
    {
      "cell_type": "code",
      "source": [
        "#Duplicate elements\n",
        "def createlist():\n",
        "  list1=[]\n",
        "  N=int(input(\"Enter Number of Values\"))\n",
        "  for i in range (0,N):\n",
        "     x=int(input(\"Enter a Value\"))\n",
        "     list1.append(x)\n",
        "\n",
        "  return list1\n",
        "\n",
        "def removeduplicate(A):\n",
        "  output=set()\n",
        "  list2=[]\n",
        "  for i in A:\n",
        "     if i not in output:\n",
        "          output.add(i)\n",
        "          list2.append(i)\n",
        "  return list2\n",
        "\n",
        "A=createlist()\n",
        "print(A)\n",
        "result=removeduplicate(A)\n",
        "print(result)"
      ],
      "metadata": {
        "id": "9U0EmmsnIODJ",
        "colab": {
          "base_uri": "https://localhost:8080/"
        },
        "outputId": "296b78e1-43c6-4205-b2ef-1269881643a8"
      },
      "execution_count": null,
      "outputs": [
        {
          "output_type": "stream",
          "name": "stdout",
          "text": [
            "Enter Number of Values4\n",
            "Enter a Value11\n",
            "Enter a Value22\n",
            "Enter a Value11\n",
            "Enter a Value22\n",
            "[11, 22, 11, 22]\n",
            "[11, 22]\n"
          ]
        }
      ]
    },
    {
      "cell_type": "code",
      "source": [
        "#Linear Search\n",
        "def LS():\n",
        "    list1=[]\n",
        "    flag=0\n",
        "    N=int(input(\"enter no. of elements\"))\n",
        "    print(\"Enter values one by one\")\n",
        "    for i in range(0,N):\n",
        "      a=int(input(\"enter a value\"))\n",
        "      list1.append(a)\n",
        "    print(list1)\n",
        "    key=int(input(\"enter the Key value\"))\n",
        "    for i in range(0,N) :\n",
        "      if key==list1 [i]:\n",
        "        flag=1\n",
        "        break\n",
        "    if flag==1:\n",
        "      print(key,\" is found in the list1 at position \",i+1 )\n",
        "    else:\n",
        "      print(key,\" is not found in the list1\")\n",
        "LS()"
      ],
      "metadata": {
        "id": "rwvAhBmbIECq",
        "colab": {
          "base_uri": "https://localhost:8080/"
        },
        "outputId": "e001c020-4393-45ed-e9b0-7b3fd5eb0b40"
      },
      "execution_count": null,
      "outputs": [
        {
          "output_type": "stream",
          "name": "stdout",
          "text": [
            "enter no. of elements4\n",
            "Enter values one by one\n",
            "enter a value11\n",
            "enter a value22\n",
            "enter a value33\n",
            "enter a value44\n",
            "[11, 22, 33, 44]\n",
            "enter the Key value22\n",
            "22  is found in the list1 at position  2\n"
          ]
        }
      ]
    },
    {
      "cell_type": "code",
      "source": [
        "#binary Search\n",
        "def binarySearch(alist, key) :\n",
        "   first = 0\n",
        "   last = len(alist)-1\n",
        "   found = 0\n",
        "   while first<=last and not found:\n",
        "      midpoint = (first+last)//2\n",
        "      if key==alist[midpoint] :\n",
        "        found=1\n",
        "        break\n",
        "      elif key<alist[midpoint] :\n",
        "        last=midpoint-1\n",
        "      else:\n",
        "        first=midpoint+1\n",
        "   if found==1:\n",
        "    print(key, \"is found in the list \" ,alist,\"at position \",midpoint+1)\n",
        "   else:\n",
        "    print(key, \"is not found in the list \")\n",
        "testlist = [0, 1, 2, 8, 13, 17, 19, 32, 42,]\n",
        "binarySearch(testlist, 13)\n",
        "testlist = [0, 1, 2, 8, 13, 17, 19, 32, 42,]\n",
        "binarySearch(testlist, 1)"
      ],
      "metadata": {
        "id": "I6kTYhnNK8AZ",
        "colab": {
          "base_uri": "https://localhost:8080/"
        },
        "outputId": "cb67ebe4-2ba6-4197-a426-06e8a9136d91"
      },
      "execution_count": null,
      "outputs": [
        {
          "output_type": "stream",
          "name": "stdout",
          "text": [
            "13 is found in the list  [0, 1, 2, 8, 13, 17, 19, 32, 42] at position  5\n",
            "1 is found in the list  [0, 1, 2, 8, 13, 17, 19, 32, 42] at position  2\n"
          ]
        }
      ]
    },
    {
      "cell_type": "code",
      "source": [
        "#Selection Sort\n",
        "def selection(list2):\n",
        "    for i in range(len(list2)):\n",
        "      least=i\n",
        "      for k in range(i+1,len(list2)):\n",
        "        if list2[k] < list2[least]:\n",
        "          least=k\n",
        "      list2=swap (list2,least,i)\n",
        "    return list2\n",
        "\n",
        "def swap(A,x,y):\n",
        "  tmp=A[x]\n",
        "  A[x]=A[y]\n",
        "  A[y]=tmp\n",
        "  return A\n",
        "list1=[25,9,8,3,5,7,10]\n",
        "print(\"Before Sorting \" ,list1)\n",
        "result=selection(list1)\n",
        "print(\"After Sorting \" ,result)"
      ],
      "metadata": {
        "id": "ht_QfrebMw8q",
        "colab": {
          "base_uri": "https://localhost:8080/"
        },
        "outputId": "2b7200d2-5784-482e-83d0-39ab76dbd43f"
      },
      "execution_count": null,
      "outputs": [
        {
          "output_type": "stream",
          "name": "stdout",
          "text": [
            "Before Sorting  [25, 9, 8, 3, 5, 7, 10]\n",
            "After Sorting  [3, 5, 7, 8, 9, 10, 25]\n"
          ]
        }
      ]
    },
    {
      "cell_type": "code",
      "source": [],
      "metadata": {
        "id": "aLwqK0A2OEi5"
      },
      "execution_count": null,
      "outputs": []
    }
  ]
}